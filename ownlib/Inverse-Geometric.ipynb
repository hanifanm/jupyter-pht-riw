{
 "cells": [
  {
   "cell_type": "code",
   "execution_count": null,
   "metadata": {},
   "outputs": [],
   "source": [
    "from matplotlib import pyplot as plt\n",
    "import numpy as np\n",
    "import cv2"
   ]
  },
  {
   "cell_type": "code",
   "execution_count": null,
   "metadata": {},
   "outputs": [],
   "source": [
    "def kp2pt(kp):\n",
    "    (px, py) = kp.pt\n",
    "    return (int(px), int(py))\n",
    "\n",
    "def getPairs(keypointmathces, keypoints1, keypoints2):\n",
    "    pairs = []\n",
    "    for mt in keypointmathces:\n",
    "        p1 = keypoints1[mt.queryIdx]\n",
    "        p2 = keypoints2[mt.trainIdx]\n",
    "        pairs.append((kp2pt(p1), kp2pt(p2)))\n",
    "    return pairs\n",
    "\n",
    "def calcDist(pa, pb):\n",
    "    (pax, pay) = pa\n",
    "    (pbx, pby) = pb\n",
    "    dx = pax - pbx\n",
    "    dy = pay - pby\n",
    "    return np.sqrt(dx * dx + dy * dy)\n",
    "\n",
    "def addTupple(t1, t2):\n",
    "    (t1x, t1y) = t1\n",
    "    (t2x, t2y) = t2\n",
    "    return (t1x + t2x, t1y + t2y)\n",
    "\n",
    "def calcError(keypointmathces, keypoints1, keypoints2, center, td):\n",
    "    pairs = getPairs(keypointmathces, keypoints1, keypoints2)\n",
    "    c2 = addTupple(center, td)\n",
    "    sum = 0\n",
    "    for (p1, p2) in pairs:\n",
    "        d1 = calcDist(p1, center)\n",
    "        d2 = calcDist(p2, c2)\n",
    "        sum += abs(d1 - d2)\n",
    "    return sum\n",
    "\n",
    "def optimizeCenter(keypointmathces, keypoints1, keypoints2, center):\n",
    "    dx = 0\n",
    "    dy = 0\n",
    "    step = 0.1\n",
    "    NKEY = 50\n",
    "    for i in range(2000):\n",
    "        if(i%2 == 0):\n",
    "            e1 = calcError(keypointmathces, keypoints1, keypoints2, center, (dx + step, dy))\n",
    "            e2 = calcError(keypointmathces, keypoints1, keypoints2, center, (dx - step, dy))\n",
    "            if(e1 < e2):\n",
    "                dx += step\n",
    "            else:\n",
    "                dx -= step\n",
    "        else:\n",
    "            e1 = calcError(keypointmathces, keypoints1, keypoints2, center, (dx, dy + step))\n",
    "            e2 = calcError(keypointmathces, keypoints1, keypoints2, center, (dx, dy - step))\n",
    "            if(e1 < e2):\n",
    "                dy += step\n",
    "            else:\n",
    "                dy -= step\n",
    "    return (int(np.round(-dx)), int(np.round(-dy)))"
   ]
  },
  {
   "cell_type": "code",
   "execution_count": null,
   "metadata": {},
   "outputs": [],
   "source": [
    "def correctTranslate(original, attacked, center):\n",
    "    \n",
    "    # Initiate ORB detector\n",
    "    orb = cv2.ORB_create()\n",
    "    \n",
    "    # find the keypoints and descriptors with ORB\n",
    "    kp1, des1 = orb.detectAndCompute(original,None)\n",
    "    kp2, des2 = orb.detectAndCompute(attacked,None)\n",
    "    \n",
    "    # create BFMatcher object\n",
    "    bf = cv2.BFMatcher(cv2.NORM_HAMMING, crossCheck=True)\n",
    "\n",
    "    # Match descriptors.\n",
    "    matches = bf.match(des1, des2)\n",
    "\n",
    "    # Sort them in the order of their distance.\n",
    "    matches = sorted(matches, key = lambda x:x.distance)\n",
    "    \n",
    "    return optimizeCenter(matches[:50], kp1, kp2, center)"
   ]
  }
 ],
 "metadata": {
  "kernelspec": {
   "display_name": "Python 3",
   "language": "python",
   "name": "python3"
  },
  "language_info": {
   "codemirror_mode": {
    "name": "ipython",
    "version": 3
   },
   "file_extension": ".py",
   "mimetype": "text/x-python",
   "name": "python",
   "nbconvert_exporter": "python",
   "pygments_lexer": "ipython3",
   "version": "3.7.1"
  }
 },
 "nbformat": 4,
 "nbformat_minor": 4
}
