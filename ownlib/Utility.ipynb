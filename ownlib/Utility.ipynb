{
 "cells": [
  {
   "cell_type": "code",
   "execution_count": 3,
   "metadata": {},
   "outputs": [],
   "source": [
    "from matplotlib import pyplot as plt\n",
    "import numpy as np\n",
    "import cv2"
   ]
  },
  {
   "cell_type": "code",
   "execution_count": 65,
   "metadata": {},
   "outputs": [],
   "source": [
    "def imgshow1(image, title):\n",
    "    fig = plt.figure()\n",
    "    plt.title(title)\n",
    "    plt.axis('off')\n",
    "    (h, w, *c) = image.shape\n",
    "    image_abs = np.abs(image)\n",
    "    if(len(c) > 0):\n",
    "        image_abs = cv2.cvtColor(image_abs, cv2.COLOR_BGR2RGB)\n",
    "        plt.imshow(image_abs)\n",
    "    else:\n",
    "        plt.imshow(image_abs, cmap = 'gray')"
   ]
  },
  {
   "cell_type": "code",
   "execution_count": 2,
   "metadata": {},
   "outputs": [],
   "source": [
    "def imgshow(images_arr, titles_arr):\n",
    "    images = np.array(images_arr)\n",
    "    titles = np.array(titles_arr)\n",
    "    (nY, nX, *rest) = images.shape\n",
    "    fig = plt.figure()\n",
    "    plt.axis('off')\n",
    "    for yy in range(nY):\n",
    "        for xx in range(nX):\n",
    "            fig.add_subplot(nY, nX, yy * nX + xx + 1)\n",
    "            plt.title(titles[yy, xx])\n",
    "            (h, w, *c) = images[yy, xx].shape\n",
    "            img_abs = np.abs(images[yy, xx])\n",
    "            if(len(c) > 0):\n",
    "                img_abs = cv2.cvtColor(img_abs, cv2.COLOR_BGR2RGB)\n",
    "                plt.imshow(img_abs)\n",
    "            else:\n",
    "                plt.imshow(img_abs, cmap = 'gray')"
   ]
  },
  {
   "cell_type": "code",
   "execution_count": null,
   "metadata": {},
   "outputs": [],
   "source": [
    "def imsave(imgdata, filename, title=''):\n",
    "    imgdata_abs = np.abs(imgdata)\n",
    "    (h, w, *c) = imgdata.shape\n",
    "    if(len(c) > 0):\n",
    "        imgdata_abs = cv2.cvtColor(imgdata_abs, cv2.COLOR_BGR2RGB)\n",
    "    plt.figure()\n",
    "    plt.axis('off')\n",
    "    plt.title(title)\n",
    "    plt.imshow(imgdata_abs, cmap = 'gray')\n",
    "    plt.savefig('dist/' + filename+'.png')"
   ]
  }
 ],
 "metadata": {
  "kernelspec": {
   "display_name": "Python 3",
   "language": "python",
   "name": "python3"
  },
  "language_info": {
   "codemirror_mode": {
    "name": "ipython",
    "version": 3
   },
   "file_extension": ".py",
   "mimetype": "text/x-python",
   "name": "python",
   "nbconvert_exporter": "python",
   "pygments_lexer": "ipython3",
   "version": "3.7.1"
  }
 },
 "nbformat": 4,
 "nbformat_minor": 2
}
