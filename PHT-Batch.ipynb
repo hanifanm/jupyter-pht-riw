{
 "cells": [
  {
   "cell_type": "code",
   "execution_count": 15,
   "metadata": {},
   "outputs": [],
   "source": [
    "from matplotlib import pyplot as plt\n",
    "import numpy as np\n",
    "import cv2"
   ]
  },
  {
   "cell_type": "code",
   "execution_count": 16,
   "metadata": {},
   "outputs": [],
   "source": [
    "N = 50\n",
    "P = 25\n",
    "\n",
    "ori_img = cv2.imread('./barbara.png', 0)\n",
    "img = cv2.resize(ori_img, (N,N))\n",
    "imvec = np.reshape(np.array(img), (N*N,1))"
   ]
  },
  {
   "cell_type": "code",
   "execution_count": 17,
   "metadata": {
    "scrolled": false
   },
   "outputs": [
    {
     "data": {
      "image/png": "[encoded data removed]",
      "text/plain": [
       "<Figure size 432x288 with 1 Axes>"
      ]
     },
     "metadata": {
      "needs_background": "light"
     },
     "output_type": "display_data"
    }
   ],
   "source": [
    "def imshow(imgdata):\n",
    "    plt.imshow(imgdata, cmap = 'gray')\n",
    "    plt.show()\n",
    "\n",
    "imshow(img)"
   ]
  },
  {
   "cell_type": "code",
   "execution_count": 18,
   "metadata": {},
   "outputs": [],
   "source": [
    "import time, sys\n",
    "from IPython.display import clear_output\n",
    "\n",
    "def update_progress(progress):\n",
    "    bar_length = 20\n",
    "    if isinstance(progress, int):\n",
    "        progress = float(progress)\n",
    "    if not isinstance(progress, float):\n",
    "        progress = 0\n",
    "    if progress < 0:\n",
    "        progress = 0\n",
    "    if progress >= 1:\n",
    "        progress = 1\n",
    "    block = int(round(bar_length * progress))\n",
    "    clear_output(wait = True)\n",
    "    text = \"Progress: [{0}] {1:.1f}%\".format( \"#\" * block + \"-\" * (bar_length - block), progress * 100)\n",
    "    print(text)"
   ]
  },
  {
   "cell_type": "code",
   "execution_count": 19,
   "metadata": {},
   "outputs": [
    {
     "name": "stdout",
     "output_type": "stream",
     "text": [
      "Progress: [####################] 100.0%\n"
     ]
    }
   ],
   "source": [
    "transformed = np.array([])\n",
    "\n",
    "# GENERATE MATRIX TRANSFORM\n",
    "\n",
    "t_len = 2 * P + 1\n",
    "\n",
    "vecN = np.ones((t_len, t_len), dtype='float32')\n",
    "vecM = np.ones((t_len, t_len), dtype='float32')\n",
    "for i in range(-P, P+1):\n",
    "    vecN[i + P, :] = i\n",
    "    vecM[:, i + P] = i\n",
    "vecN = vecN.reshape((t_len * t_len, 1))\n",
    "vecM = vecM.reshape((t_len * t_len, 1))\n",
    "\n",
    "vecI = np.ones((N,N), dtype='float32')\n",
    "vecK = np.ones((N,N), dtype='float32')\n",
    "for i in range(N):\n",
    "    vecI[i,:] = i\n",
    "    vecK[:,i] = i\n",
    "vecI = vecI.reshape((1, N * N))\n",
    "vecK = vecK.reshape((1, N * N))\n",
    "\n",
    "vecY = (2 * vecI - N + 1) / (N - 1) / np.sqrt(2)\n",
    "vecX = (2 * vecK - N + 1) / (N - 1) / np.sqrt(2)\n",
    "vecR = np.sqrt(vecX * vecX + vecY * vecY)\n",
    "vecT = np.arctan2(vecY, vecX)\n",
    "\n",
    "# FREE UP SOME MEMORY - 1\n",
    "del vecI\n",
    "del vecK\n",
    "del vecY\n",
    "del vecX\n",
    "\n",
    "for row in range(t_len):\n",
    "    start = row * t_len\n",
    "    end = start + t_len\n",
    "    matR = np.repeat(vecR, t_len, axis=0)\n",
    "    matT = np.repeat(vecT, t_len, axis=0)\n",
    "    matN = np.repeat(vecN[start:end, :], N * N, axis=1)\n",
    "    matM = np.repeat(vecM[start:end, :], N * N, axis=1)\n",
    "    \n",
    "    matW = 2 / (np.pi * N * N) * np.exp(-2 * np.pi * matN * matR * matR * 1j - matM * matT * 1j)\n",
    "    trf_row = np.matmul(matW, imvec)\n",
    "    transformed = np.append(transformed, trf_row)\n",
    "\n",
    "    # FREE UP SOME MEMORY - 2\n",
    "    del matW\n",
    "    del matN\n",
    "    del matM\n",
    "    del matR\n",
    "    del matT\n",
    "    \n",
    "    update_progress((row + P) / t_len)\n",
    "\n",
    "update_progress(1)"
   ]
  },
  {
   "cell_type": "code",
   "execution_count": 20,
   "metadata": {
    "scrolled": true
   },
   "outputs": [
    {
     "data": {
      "image/png": "[encoded data removed]",
      "text/plain": [
       "<Figure size 432x288 with 1 Axes>"
      ]
     },
     "metadata": {
      "needs_background": "light"
     },
     "output_type": "display_data"
    }
   ],
   "source": [
    "transformed_abs = np.abs(transformed)\n",
    "transformed_abs_img = np.reshape(transformed_abs, (2 * P + 1, 2 * P + 1))\n",
    "imshow(transformed_abs_img)"
   ]
  },
  {
   "cell_type": "code",
   "execution_count": 21,
   "metadata": {},
   "outputs": [
    {
     "name": "stdout",
     "output_type": "stream",
     "text": [
      "Progress: [####################] 100.0%\n"
     ]
    }
   ],
   "source": [
    "inversed = np.array([])\n",
    "\n",
    "# GENERATE MATRIX INVERS TRANSFORM\n",
    "\n",
    "t_len = 2 * P + 1\n",
    "\n",
    "vecN = np.ones((t_len, t_len), dtype='float32')\n",
    "vecM = np.ones((t_len, t_len), dtype='float32')\n",
    "for i in range(-P, P+1):\n",
    "    vecN[i + P, :] = i\n",
    "    vecM[:, i + P] = i\n",
    "vecN = vecN.reshape((1, t_len * t_len))\n",
    "vecM = vecM.reshape((1, t_len * t_len))\n",
    "\n",
    "vecI = np.ones((N,N), dtype='float32')\n",
    "vecK = np.ones((N,N), dtype='float32')\n",
    "for i in range(N):\n",
    "    vecI[i,:] = i\n",
    "    vecK[:,i] = i\n",
    "vecI = vecI.reshape((N*N,1))\n",
    "vecK = vecK.reshape((N*N,1))\n",
    "\n",
    "vecY = (2 * vecI - N + 1) / (N - 1) / np.sqrt(2)\n",
    "vecX = (2 * vecK - N + 1) / (N - 1) / np.sqrt(2)\n",
    "vecR = np.sqrt(vecX * vecX + vecY * vecY)\n",
    "vecT = np.arctan2(vecY, vecX)\n",
    "\n",
    "# FREE UP SOME MEMORY - 1\n",
    "del vecI\n",
    "del vecK\n",
    "del vecY\n",
    "del vecX\n",
    "\n",
    "for row in range(N):\n",
    "    start = row * N\n",
    "    end = start + N\n",
    "    matR = np.repeat(vecR[start:end, :], t_len * t_len, axis=1)\n",
    "    matT = np.repeat(vecT[start:end, :], t_len * t_len, axis=1)\n",
    "    matN = np.repeat(vecN, N, axis=0)\n",
    "    matM = np.repeat(vecM, N, axis=0)\n",
    "    \n",
    "    matV = np.exp(2 * np.pi * matN * matR * matR * 1j + matM * matT * 1j)\n",
    "    inv_row = np.matmul(matV, transformed)\n",
    "    inversed = np.append(inversed, inv_row)\n",
    "\n",
    "    # FREE UP SOME MEMORY - 2\n",
    "    del matV\n",
    "    del matN\n",
    "    del matM\n",
    "    del matR\n",
    "    del matT\n",
    "    \n",
    "    update_progress(row / N)\n",
    "\n",
    "update_progress(1)"
   ]
  },
  {
   "cell_type": "code",
   "execution_count": 22,
   "metadata": {
    "scrolled": true
   },
   "outputs": [
    {
     "data": {
      "image/png": "[encoded data removed]",
      "text/plain": [
       "<Figure size 432x288 with 1 Axes>"
      ]
     },
     "metadata": {
      "needs_background": "light"
     },
     "output_type": "display_data"
    }
   ],
   "source": [
    "inversed_abs = np.abs(inversed)\n",
    "inversed_abs_img = np.reshape(inversed_abs, (N,N))\n",
    "imshow(inversed_abs_img)"
   ]
  },
  {
   "cell_type": "code",
   "execution_count": null,
   "metadata": {},
   "outputs": [],
   "source": []
  }
 ],
 "metadata": {
  "kernelspec": {
   "display_name": "Python 3",
   "language": "python",
   "name": "python3"
  },
  "language_info": {
   "codemirror_mode": {
    "name": "ipython",
    "version": 3
   },
   "file_extension": ".py",
   "mimetype": "text/x-python",
   "name": "python",
   "nbconvert_exporter": "python",
   "pygments_lexer": "ipython3",
   "version": "3.7.1"
  }
 },
 "nbformat": 4,
 "nbformat_minor": 2
}
