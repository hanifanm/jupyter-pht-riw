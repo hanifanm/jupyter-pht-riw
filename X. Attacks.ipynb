{
 "cells": [
  {
   "cell_type": "code",
   "execution_count": 1,
   "metadata": {},
   "outputs": [],
   "source": [
    "from matplotlib import pyplot as plt\n",
    "from tabulate import tabulate\n",
    "import numpy as np\n",
    "import cv2"
   ]
  },
  {
   "cell_type": "code",
   "execution_count": 20,
   "metadata": {
    "scrolled": true
   },
   "outputs": [],
   "source": [
    "# Steps\n",
    "\n",
    "NNN = 512\n",
    "\n",
    "T_STEP = int(40 / 10) + 1\n",
    "I_STEP = int(NNN / 20) + 1\n",
    "\n",
    "%run -i ./ownlib/PHT-Library.ipynb\n",
    "%run -i ./ownlib/RIW-Library.ipynb\n",
    "%run -i ./ownlib/Utility.ipynb\n",
    "%run -i ./ownlib/Inverse-Geometric.ipynb"
   ]
  },
  {
   "cell_type": "code",
   "execution_count": 21,
   "metadata": {},
   "outputs": [],
   "source": [
    "# Import images\n",
    "ori_img = cv2.imread('./assets/lena.png') #BGR\n",
    "ori_logo = cv2.imread('./assets/paperplane.png', 0)"
   ]
  },
  {
   "cell_type": "code",
   "execution_count": 22,
   "metadata": {},
   "outputs": [],
   "source": [
    "def ecute(N, G, P, D):\n",
    "    # Preprocess Image\n",
    "    IMG_BGR = cv2.resize(ori_img, (N, N)) # Original Image\n",
    "    IMG_Y = getYFromBGR(IMG_BGR) #\n",
    "\n",
    "    # Preprocess Logo\n",
    "    LOGO = cv2.resize(ori_logo, (G,G))\n",
    "    LOGO = (LOGO >= 128) * 1\n",
    "    \n",
    "    # Scrambling Logo\n",
    "    LOGO_SC = scramble(LOGO)\n",
    "    \n",
    "    # Transform\n",
    "    MOMEN = transformPHT(IMG_Y, N, P, 'Transform Image, N={} G={} P={} D={}'.format(N, G, P, D))\n",
    "    \n",
    "    # Embedding\n",
    "    QQ = np.floor(np.abs(MOMEN) / D) % 2\n",
    "    (LOGO_POSITIONED, LOGO_FILTER, maxCapacity) = watermarkEmbed(LOGO, P)\n",
    "    \n",
    "    # Calculate Momen Changes\n",
    "    XI = np.abs(MOMEN) - np.floor(np.abs(MOMEN) / D) * D\n",
    "    OMEGA = - XI\n",
    "    OMEGA = OMEGA + D / 2 * (QQ == LOGO_POSITIONED)\n",
    "    OMEGA = OMEGA + 3 * D / 2 * np.logical_and(QQ != LOGO_POSITIONED, np.logical_or(XI > D / 2, np.abs(MOMEN) < D))\n",
    "    OMEGA = OMEGA - D / 2 * np.logical_and(QQ != LOGO_POSITIONED, np.logical_and(XI <= D / 2, np.abs(MOMEN) >= D))\n",
    "    OMEGA = OMEGA / (np.abs(MOMEN) + 0.000000001) * MOMEN\n",
    "    OMEGA = OMEGA * LOGO_FILTER\n",
    "    \n",
    "    # Compensation Image\n",
    "    IMG_COMPENSATION = inversePHT(OMEGA, N, P, 'Generating Compensation Image N={} G={} P={} D={}'.format(N, G, P, D ))\n",
    "    \n",
    "    # Watermarking\n",
    "    IMG_Y_WATERMARKED = IMG_Y + IMG_COMPENSATION\n",
    "    IMG_WATERMARKED = putYToBGR(IMG_Y_WATERMARKED, IMG_BGR)\n",
    "    \n",
    "    # Calculate PSNR\n",
    "    DST = (IMG_WATERMARKED - IMG_BGR)\n",
    "    DST = DST * DST\n",
    "    MSE = np.sum(DST) / (9 * N * N)\n",
    "    PSNR = 10 * np.log10(255 * 255 / MSE)\n",
    "    \n",
    "    # Return\n",
    "    return (IMG_WATERMARKED, PSNR, N, G, P, D)"
   ]
  },
  {
   "cell_type": "code",
   "execution_count": 23,
   "metadata": {},
   "outputs": [],
   "source": [
    "def war(image, n):\n",
    "    attackedImages = []\n",
    "    \n",
    "    # No Attack\n",
    "    attackedImages.append((np.copy(image), 'No Attack'))\n",
    "    \n",
    "    # Attack: Rotation\n",
    "    ROTATION_ANGLE = 45\n",
    "    imgRotate = attackRotation(image, ROTATION_ANGLE)\n",
    "    attackedImages.append((imgRotate, 'Rotation {}° CW'.format(ROTATION_ANGLE)))\n",
    "    \n",
    "    # Attack: Scaling\n",
    "    RESIZE_FACTOR = 0.75\n",
    "    imgResize = attackResize(image, int(RESIZE_FACTOR * n))\n",
    "    attackedImages.append((imgResize, 'Scaling ' + '{:.0%}'.format(RESIZE_FACTOR)))\n",
    "    \n",
    "    # Attack: Translation\n",
    "    TR_X = 0.05\n",
    "    TR_Y = -0.05\n",
    "    imgTranslate = attackTranslate(image, TR_X, TR_Y)\n",
    "    attackedImages.append((imgTranslate, 'Translation X={:.0%} Y={:.0%}'.format(TR_X, TR_Y)))\n",
    "    \n",
    "    # Attack: Crop\n",
    "    CROP_PERCENTAGE = 0.05\n",
    "    imgCrop = attackCrop(image, CROP_PERCENTAGE, CROP_PERCENTAGE, CROP_PERCENTAGE, CROP_PERCENTAGE)\n",
    "    attackedImages.append((imgCrop, 'Crop {:.0%}'.format(CROP_PERCENTAGE)))\n",
    "    \n",
    "    # Attack: BLUR\n",
    "    BLUR_KERNEL_SIZE = 3\n",
    "    imgBlur = attackBlur(image, BLUR_KERNEL_SIZE)\n",
    "    attackedImages.append((imgBlur, 'Blur K={}'.format(BLUR_KERNEL_SIZE)))\n",
    "\n",
    "    # Attack: Black & Pepper Noise\n",
    "    NOISE_PERCENTAGE = 0.05\n",
    "    imgNoise = attackRandomNoise(image, NOISE_PERCENTAGE)\n",
    "    attackedImages.append((imgNoise, 'Noise {:.0%}'.format(NOISE_PERCENTAGE)))\n",
    "\n",
    "    # Attack: JPG Compression\n",
    "    COMPRESSION_QUALITY = 60\n",
    "    imgJpg = attackJPG(image, ROTATION_ANGLE)\n",
    "    attackedImages.append((imgJpg, 'JPG Compression Q={}'.format(COMPRESSION_QUALITY)))\n",
    "    \n",
    "    return attackedImages"
   ]
  },
  {
   "cell_type": "code",
   "execution_count": 24,
   "metadata": {},
   "outputs": [
    {
     "name": "stdout",
     "output_type": "stream",
     "text": [
      "|   N |   G |   P |    D |    PSNR |\n",
      "|-----+-----+-----+------+---------|\n",
      "| 512 |  32 |  38 | 0.35 | 34.9911 |\n"
     ]
    }
   ],
   "source": [
    "# Test\n",
    "\n",
    "(watermarkedImage, psnr, n, g, p, d) = ecute(NNN, 32, 38, 0.35)\n",
    "\n",
    "clear_output(wait = True)\n",
    "print(tabulate([[n, g, p, d, psnr]], headers=['N', 'G', 'P', 'D', 'PSNR'], tablefmt='orgtbl'))"
   ]
  },
  {
   "cell_type": "code",
   "execution_count": 25,
   "metadata": {},
   "outputs": [
    {
     "name": "stdout",
     "output_type": "stream",
     "text": [
      "| N                      | 512         |\n",
      "| G                      |  32         |\n",
      "| P                      |  38         |\n",
      "| D                      |   0.35      |\n",
      "| PSNR                   |  34.9911    |\n",
      "| No Attack              |   0         |\n",
      "| Rotation 45° CW        |   0.314453  |\n",
      "| Scaling 75%            |   0.0498047 |\n",
      "| Translation X=5% Y=-5% |   0.0839844 |\n",
      "| Crop 5%                |   0.0419922 |\n",
      "| Blur K=3               |   0.15625   |\n",
      "| Noise 5%               |   0.0351562 |\n",
      "| JPG Compression Q=60   |   0         |\n"
     ]
    }
   ],
   "source": [
    "imgAttackedList = war(watermarkedImage, n)\n",
    "\n",
    "header = ['N', 'G', 'P', 'D', 'PSNR']\n",
    "data = [n, g, p, d, psnr]\n",
    "gallery = []\n",
    "title = []\n",
    "\n",
    "for imgWithTitle in imgAttackedList[0:]:\n",
    "    (imgAttack, titleAttack) = imgWithTitle\n",
    "    header.append(titleAttack)\n",
    "    message = 'N={} G={} P={} D={}\\n{}'.format(n, g, p, d, titleAttack)\n",
    "    (logo2, ber) = extractWatermarkFromImage(imgAttack, ori_img, ori_logo, n, g, p, d, message)\n",
    "    data.append(ber)\n",
    "    gallery.append(logo2)\n",
    "    title.append(titleAttack)\n",
    "\n",
    "clear_output(wait = True)\n",
    "print(tabulate(\n",
    "    np.array([header, data]).T,\n",
    "    tablefmt='orgtbl'\n",
    "))"
   ]
  },
  {
   "cell_type": "code",
   "execution_count": 27,
   "metadata": {},
   "outputs": [
    {
     "data": {
      "image/png": "[encoded data removed]",
      "text/plain": [
       "<Figure size 1440x720 with 9 Axes>"
      ]
     },
     "metadata": {
      "needs_background": "light"
     },
     "output_type": "display_data"
    }
   ],
   "source": [
    "imgshow([gallery[1:5], gallery[5:9]], [title[1:5], title[5:9]], 5)"
   ]
  },
  {
   "cell_type": "code",
   "execution_count": null,
   "metadata": {},
   "outputs": [],
   "source": []
  }
 ],
 "metadata": {
  "kernelspec": {
   "display_name": "Python 3",
   "language": "python",
   "name": "python3"
  },
  "language_info": {
   "codemirror_mode": {
    "name": "ipython",
    "version": 3
   },
   "file_extension": ".py",
   "mimetype": "text/x-python",
   "name": "python",
   "nbconvert_exporter": "python",
   "pygments_lexer": "ipython3",
   "version": "3.7.1"
  }
 },
 "nbformat": 4,
 "nbformat_minor": 2
}
