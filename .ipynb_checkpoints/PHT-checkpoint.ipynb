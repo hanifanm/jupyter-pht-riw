{
 "cells": [
  {
   "cell_type": "code",
   "execution_count": 15,
   "metadata": {},
   "outputs": [],
   "source": [
    "from matplotlib import pyplot as plt\n",
    "import numpy as np\n",
    "import cv2"
   ]
  },
  {
   "cell_type": "code",
   "execution_count": 16,
   "metadata": {},
   "outputs": [],
   "source": [
    "N = 10\n",
    "P = 10"
   ]
  },
  {
   "cell_type": "code",
   "execution_count": 17,
   "metadata": {
    "scrolled": true
   },
   "outputs": [
    {
     "data": {
      "image/png": "[encoded data removed]",
      "text/plain": [
       "<Figure size 432x288 with 1 Axes>"
      ]
     },
     "metadata": {
      "needs_background": "light"
     },
     "output_type": "display_data"
    }
   ],
   "source": [
    "img = cv2.imread('./maudy.png', 0)\n",
    "img = cv2.resize(img, (N,N))\n",
    "imvec = np.reshape(np.array(img), (N*N,1))\n",
    "\n",
    "def imshow(imgdata):\n",
    "    plt.imshow(imgdata, cmap = 'gray')\n",
    "    plt.show()\n",
    "\n",
    "imshow(img)"
   ]
  },
  {
   "cell_type": "code",
   "execution_count": 18,
   "metadata": {},
   "outputs": [],
   "source": [
    "def V(n, m, i, k):\n",
    "    y = (2 * i + 1 - N) / N\n",
    "    x = (2 * k + 1 - N) / N\n",
    "    r = np.sqrt(x * x + y * y)\n",
    "    t = np.arctan2(y, x)\n",
    "    return np.exp(2 * np.pi * n * r * r * 1j + m * t * 1j)\n",
    "\n",
    "def W(n, m, i, k):\n",
    "    y = (2 * i + 1 - N) / N\n",
    "    x = (2 * k + 1 - N) / N\n",
    "    r = np.sqrt(x * x + y * y)\n",
    "    t = np.arctan2(y, x)\n",
    "    return np.exp(-2 * np.pi * n * r * r * 1j - m * t * 1j)"
   ]
  },
  {
   "cell_type": "code",
   "execution_count": 19,
   "metadata": {},
   "outputs": [],
   "source": [
    "def createMatW():\n",
    "    matN = np.ones((P,P))\n",
    "    matM = np.ones((P,P))\n",
    "    for i in range(P):\n",
    "        matN[i,:] = i\n",
    "        matM[:,i] = i\n",
    "    matN = matN.reshape((P*P,1))\n",
    "    matN = np.repeat(matN, N*N, axis=1)\n",
    "    matM = matM.reshape((P*P,1))\n",
    "    matM = np.repeat(matM, N*N, axis=1)\n",
    "\n",
    "    matI = np.ones((N,N))\n",
    "    matK = np.ones((N,N))\n",
    "    for i in range(N):\n",
    "        matI[i,:] = i\n",
    "        matK[:,i] = i\n",
    "    matI = matI.reshape((1,N*N))\n",
    "    matI = np.repeat(matI, P*P, axis=0)\n",
    "    matK = matK.reshape((1,N*N))\n",
    "    matK = np.repeat(matK, P*P, axis=0)\n",
    "\n",
    "    matW = 4 / (np.pi * N * N) * W(matN, matM, matI, matK)\n",
    "    return matW\n",
    "\n",
    "def createMatV():\n",
    "    matN = np.ones((P,P))\n",
    "    matM = np.ones((P,P))\n",
    "    for i in range(P):\n",
    "        matN[i,:] = i\n",
    "        matM[:,i] = i\n",
    "    matN = matN.reshape((1,P*P))\n",
    "    matN = np.repeat(matN, N*N, axis=0)\n",
    "    matM = matM.reshape((1,P*P))\n",
    "    matM = np.repeat(matM, N*N, axis=0)\n",
    "\n",
    "    matI = np.ones((N,N))\n",
    "    matK = np.ones((N,N))\n",
    "    for i in range(N):\n",
    "        matI[i,:] = i\n",
    "        matK[:,i] = i\n",
    "    matI = matI.reshape((N*N,1))\n",
    "    matI = np.repeat(matI, P*P, axis=1)\n",
    "    matK = matK.reshape((N*N,1))\n",
    "    matK = np.repeat(matK, P*P, axis=1)\n",
    "\n",
    "    matV = V(matN, matM, matI, matK)\n",
    "    return matV"
   ]
  },
  {
   "cell_type": "code",
   "execution_count": 20,
   "metadata": {},
   "outputs": [],
   "source": [
    "matW = createMatW()"
   ]
  },
  {
   "cell_type": "code",
   "execution_count": 21,
   "metadata": {},
   "outputs": [
    {
     "data": {
      "image/png": "[encoded data removed]",
      "text/plain": [
       "<Figure size 432x288 with 1 Axes>"
      ]
     },
     "metadata": {
      "needs_background": "light"
     },
     "output_type": "display_data"
    }
   ],
   "source": [
    "transformed = np.matmul(matW, imvec)\n",
    "transformed_abs = np.abs(transformed)\n",
    "transformed_abs_img = np.reshape(transformed_abs, (P, P))\n",
    "imshow(transformed_abs_img)"
   ]
  },
  {
   "cell_type": "code",
   "execution_count": 22,
   "metadata": {},
   "outputs": [],
   "source": [
    "matV = createMatV()"
   ]
  },
  {
   "cell_type": "code",
   "execution_count": 23,
   "metadata": {
    "scrolled": true
   },
   "outputs": [
    {
     "data": {
      "image/png": "[encoded data removed]",
      "text/plain": [
       "<Figure size 432x288 with 1 Axes>"
      ]
     },
     "metadata": {
      "needs_background": "light"
     },
     "output_type": "display_data"
    }
   ],
   "source": [
    "inversed = np.matmul(matV, transformed)\n",
    "inversed_abs = np.abs(inversed)\n",
    "inversed_abs_img = np.reshape(inversed_abs, (N,N))\n",
    "imshow(inversed_abs_img)"
   ]
  },
  {
   "cell_type": "code",
   "execution_count": null,
   "metadata": {},
   "outputs": [],
   "source": []
  }
 ],
 "metadata": {
  "kernelspec": {
   "display_name": "Python 3",
   "language": "python",
   "name": "python3"
  },
  "language_info": {
   "codemirror_mode": {
    "name": "ipython",
    "version": 3
   },
   "file_extension": ".py",
   "mimetype": "text/x-python",
   "name": "python",
   "nbconvert_exporter": "python",
   "pygments_lexer": "ipython3",
   "version": "3.7.1"
  }
 },
 "nbformat": 4,
 "nbformat_minor": 2
}
