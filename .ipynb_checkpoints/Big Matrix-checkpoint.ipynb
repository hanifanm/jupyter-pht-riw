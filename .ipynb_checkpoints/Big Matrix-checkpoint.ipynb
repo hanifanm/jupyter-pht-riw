{
 "cells": [
  {
   "cell_type": "code",
   "execution_count": 1,
   "metadata": {},
   "outputs": [],
   "source": [
    "import numpy as np"
   ]
  },
  {
   "cell_type": "code",
   "execution_count": 20,
   "metadata": {},
   "outputs": [],
   "source": [
    "def V(n, m, i, k):\n",
    "    y = (2 * i + 1 - N) / N\n",
    "    x = (2 * k + 1 - N) / N\n",
    "    r = np.sqrt(x * x + y * y)\n",
    "    t = np.arctan2(y, x)\n",
    "    return np.exp(2 * np.pi * n * r * r * 1j + m * t * 1j)\n",
    "\n",
    "def W(n, m, i, k):\n",
    "    y = (2 * i + 1 - N) / N\n",
    "    x = (2 * k + 1 - N) / N\n",
    "    r = np.sqrt(x * x + y * y)\n",
    "    t = np.arctan2(y, x)\n",
    "    return np.exp(-2 * np.pi * n * r * r * 1j - m * t * 1j)"
   ]
  },
  {
   "cell_type": "code",
   "execution_count": null,
   "metadata": {},
   "outputs": [],
   "source": [
    "def createMatW():\n",
    "    matN = np.ones((P,P))\n",
    "    matM = np.ones((P,P))\n",
    "    for i in range(P):\n",
    "        matN[i,:] = i\n",
    "        matM[:,i] = i\n",
    "    matN = matN.reshape((P*P,1))\n",
    "    matN = np.repeat(matN, N*N, axis=1)\n",
    "    matM = matM.reshape((P*P,1))\n",
    "    matM = np.repeat(matM, N*N, axis=1)\n",
    "\n",
    "    \n",
    "\n",
    "    matW = 4 / (np.pi * N * N) * W(matN, matM, matI, matK)\n",
    "    return matW"
   ]
  },
  {
   "cell_type": "code",
   "execution_count": 2,
   "metadata": {},
   "outputs": [],
   "source": [
    "N = 100\n",
    "P = 100"
   ]
  },
  {
   "cell_type": "code",
   "execution_count": 3,
   "metadata": {},
   "outputs": [],
   "source": [
    "matN = np.ones((P,P))\n",
    "matM = np.ones((P,P))\n",
    "for i in range(P):\n",
    "        matN[i,:] = i\n",
    "        matM[:,i] = i\n",
    "matN = matN.reshape((P*P,1))\n",
    "matN = np.repeat(matN, N*N, axis=1)\n",
    "matM = matM.reshape((P*P,1))\n",
    "matM = np.repeat(matM, N*N, axis=1)"
   ]
  },
  {
   "cell_type": "code",
   "execution_count": 22,
   "metadata": {},
   "outputs": [],
   "source": [
    "matI = np.ones((N,N))\n",
    "matK = np.ones((N,N))\n",
    "for i in range(N):\n",
    "    matI[i,:] = i\n",
    "    matK[:,i] = i\n",
    "matI = matI.reshape((1,N*N))\n",
    "matI = np.repeat(matI, P*P, axis=0)\n",
    "matK = matK.reshape((1,N*N))\n",
    "matK = np.repeat(matK, P*P, axis=0)"
   ]
  },
  {
   "cell_type": "code",
   "execution_count": 24,
   "metadata": {},
   "outputs": [],
   "source": [
    "matY = (2 * matI + 1 - N) / N\n",
    "matX = (2 * matK + 1 - N) / N\n",
    "matR = np.sqrt(matY * matY + matX * matX)\n",
    "matT = np.arctan2(matY, matX)"
   ]
  },
  {
   "cell_type": "code",
   "execution_count": 25,
   "metadata": {},
   "outputs": [],
   "source": [
    "matW = np.exp(2 * np.pi * matN * matR * matR * 1j + matM * matT * 1j)"
   ]
  },
  {
   "cell_type": "code",
   "execution_count": null,
   "metadata": {},
   "outputs": [],
   "source": []
  }
 ],
 "metadata": {
  "kernelspec": {
   "display_name": "Python 3",
   "language": "python",
   "name": "python3"
  },
  "language_info": {
   "codemirror_mode": {
    "name": "ipython",
    "version": 3
   },
   "file_extension": ".py",
   "mimetype": "text/x-python",
   "name": "python",
   "nbconvert_exporter": "python",
   "pygments_lexer": "ipython3",
   "version": "3.7.1"
  }
 },
 "nbformat": 4,
 "nbformat_minor": 2
}
