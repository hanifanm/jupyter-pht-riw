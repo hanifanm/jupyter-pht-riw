{
 "cells": [
  {
   "cell_type": "code",
   "execution_count": 2,
   "metadata": {},
   "outputs": [],
   "source": [
    "import numpy as np"
   ]
  },
  {
   "cell_type": "code",
   "execution_count": 24,
   "metadata": {},
   "outputs": [],
   "source": [
    "N = 80\n",
    "P = 80"
   ]
  },
  {
   "cell_type": "code",
   "execution_count": 25,
   "metadata": {},
   "outputs": [],
   "source": [
    "def V(n, m, i, k):\n",
    "    y = (2 * i + 1 - N) / N\n",
    "    x = (2 * k + 1 - N) / N\n",
    "    r = np.sqrt(x * x + y * y)\n",
    "    t = np.arctan2(y, x)\n",
    "    return np.exp(2 * np.pi * n * r * r * 1j + m * t * 1j)\n",
    "\n",
    "def W(n, m, i, k):\n",
    "    y = (2 * i + 1 - N) / N\n",
    "    x = (2 * k + 1 - N) / N\n",
    "    r = np.sqrt(x * x + y * y)\n",
    "    t = np.arctan2(y, x)\n",
    "    return np.exp(-2 * np.pi * n * r * r * 1j - m * t * 1j)"
   ]
  },
  {
   "cell_type": "code",
   "execution_count": 26,
   "metadata": {},
   "outputs": [],
   "source": [
    "def createMatW():\n",
    "    matN = np.ones((P,P))\n",
    "    matM = np.ones((P,P))\n",
    "    for i in range(P):\n",
    "        matN[i,:] = i\n",
    "        matM[:,i] = i\n",
    "    matN = matN.reshape((P*P,1))\n",
    "    matN = np.repeat(matN, N*N, axis=1)\n",
    "    matM = matM.reshape((P*P,1))\n",
    "    matM = np.repeat(matM, N*N, axis=1)\n",
    "\n",
    "    matI = np.ones((N,N))\n",
    "    matK = np.ones((N,N))\n",
    "    for i in range(N):\n",
    "        matI[i,:] = i\n",
    "        matK[:,i] = i\n",
    "    matI = matI.reshape((1,N*N))\n",
    "    matI = np.repeat(matI, P*P, axis=0)\n",
    "    matK = matK.reshape((1,N*N))\n",
    "    matK = np.repeat(matK, P*P, axis=0)\n",
    "\n",
    "    matW = 4 / (np.pi * N * N) * W(matN, matM, matI, matK)\n",
    "    return matW\n",
    "\n",
    "def createMatV():\n",
    "    matN = np.ones((P,P))\n",
    "    matM = np.ones((P,P))\n",
    "    for i in range(P):\n",
    "        matN[i,:] = i\n",
    "        matM[:,i] = i\n",
    "    matN = matN.reshape((1,P*P))\n",
    "    matN = np.repeat(matN, N*N, axis=0)\n",
    "    matM = matM.reshape((1,P*P))\n",
    "    matM = np.repeat(matM, N*N, axis=0)\n",
    "\n",
    "    matI = np.ones((N,N))\n",
    "    matK = np.ones((N,N))\n",
    "    for i in range(N):\n",
    "        matI[i,:] = i\n",
    "        matK[:,i] = i\n",
    "    matI = matI.reshape((N*N,1))\n",
    "    matI = np.repeat(matI, P*P, axis=1)\n",
    "    matK = matK.reshape((N*N,1))\n",
    "    matK = np.repeat(matK, P*P, axis=1)\n",
    "\n",
    "    matV = V(matN, matM, matI, matK)\n",
    "    return matV"
   ]
  },
  {
   "cell_type": "code",
   "execution_count": 27,
   "metadata": {},
   "outputs": [
    {
     "data": {
      "text/plain": [
       "array([[ 1.98943679e-04+0.00000000e+00j,  1.98943679e-04+0.00000000e+00j,\n",
       "         1.98943679e-04+0.00000000e+00j, ...,\n",
       "         1.98943679e-04+0.00000000e+00j,  1.98943679e-04+0.00000000e+00j,\n",
       "         1.98943679e-04+0.00000000e+00j],\n",
       "       [-1.40674424e-04+1.40674424e-04j, -1.38859495e-04+1.42466235e-04j,\n",
       "        -1.36974346e-04+1.44279645e-04j, ...,\n",
       "         1.36974346e-04-1.44279645e-04j,  1.38859495e-04-1.42466235e-04j,\n",
       "         1.40674424e-04-1.40674424e-04j],\n",
       "       [-3.65453609e-20-1.98943679e-04j, -5.10028166e-06-1.98878291e-04j,\n",
       "        -1.03277689e-05-1.98675425e-04j, ...,\n",
       "        -1.03277689e-05-1.98675425e-04j, -5.10028166e-06-1.98878291e-04j,\n",
       "         1.21817870e-20-1.98943679e-04j],\n",
       "       ...,\n",
       "       [ 6.18483654e-05-1.89085608e-04j, -1.98823018e-04+6.92783392e-06j,\n",
       "         1.70712473e-04+1.02155955e-04j, ...,\n",
       "        -1.70712473e-04-1.02155955e-04j,  1.98823018e-04-6.92783392e-06j,\n",
       "        -6.18483654e-05+1.89085608e-04j],\n",
       "       [ 8.99703169e-05+1.77437114e-04j,  1.33814161e-04-1.47215345e-04j,\n",
       "        -1.91623350e-04+5.34703583e-05j, ...,\n",
       "        -1.91623350e-04+5.34703583e-05j,  1.33814161e-04-1.47215345e-04j,\n",
       "         8.99703169e-05+1.77437114e-04j],\n",
       "       [-1.89085608e-04-6.18483654e-05j,  1.20227452e-05+1.98580062e-04j,\n",
       "         9.31560070e-05-1.75785511e-04j, ...,\n",
       "        -9.31560070e-05+1.75785511e-04j, -1.20227452e-05-1.98580062e-04j,\n",
       "         1.89085608e-04+6.18483654e-05j]])"
      ]
     },
     "execution_count": 27,
     "metadata": {},
     "output_type": "execute_result"
    }
   ],
   "source": [
    "matW = createMatW()"
   ]
  },
  {
   "cell_type": "code",
   "execution_count": 28,
   "metadata": {},
   "outputs": [],
   "source": [
    "matV = createMatV()"
   ]
  },
  {
   "cell_type": "code",
   "execution_count": 29,
   "metadata": {},
   "outputs": [
    {
     "name": "stdout",
     "output_type": "stream",
     "text": [
      "(6400, 6400)\n"
     ]
    },
    {
     "data": {
      "text/plain": [
       "array([[1., 0., 0., ..., 0., 0., 0.],\n",
       "       [0., 1., 0., ..., 0., 0., 0.],\n",
       "       [0., 0., 1., ..., 0., 0., 0.],\n",
       "       ...,\n",
       "       [0., 0., 0., ..., 1., 0., 0.],\n",
       "       [0., 0., 0., ..., 0., 1., 0.],\n",
       "       [0., 0., 0., ..., 0., 0., 1.]])"
      ]
     },
     "execution_count": 29,
     "metadata": {},
     "output_type": "execute_result"
    }
   ],
   "source": [
    "vw = np.matmul(matV, matW)\n",
    "print(vw.shape)\n",
    "np.floor(np.abs(vw))"
   ]
  },
  {
   "cell_type": "code",
   "execution_count": null,
   "metadata": {},
   "outputs": [],
   "source": []
  },
  {
   "cell_type": "code",
   "execution_count": null,
   "metadata": {},
   "outputs": [],
   "source": []
  },
  {
   "cell_type": "code",
   "execution_count": null,
   "metadata": {},
   "outputs": [],
   "source": []
  },
  {
   "cell_type": "code",
   "execution_count": null,
   "metadata": {},
   "outputs": [],
   "source": []
  },
  {
   "cell_type": "code",
   "execution_count": null,
   "metadata": {},
   "outputs": [],
   "source": []
  },
  {
   "cell_type": "code",
   "execution_count": null,
   "metadata": {},
   "outputs": [],
   "source": []
  }
 ],
 "metadata": {
  "kernelspec": {
   "display_name": "Python 3",
   "language": "python",
   "name": "python3"
  },
  "language_info": {
   "codemirror_mode": {
    "name": "ipython",
    "version": 3
   },
   "file_extension": ".py",
   "mimetype": "text/x-python",
   "name": "python",
   "nbconvert_exporter": "python",
   "pygments_lexer": "ipython3",
   "version": "3.7.1"
  }
 },
 "nbformat": 4,
 "nbformat_minor": 2
}
